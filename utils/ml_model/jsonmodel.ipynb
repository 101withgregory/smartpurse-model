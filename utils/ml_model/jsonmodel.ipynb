{
 "cells": [
  {
   "cell_type": "code",
   "execution_count": null,
   "metadata": {},
   "outputs": [
    {
     "name": "stdout",
     "output_type": "stream",
     "text": [
      "ONNX Runtime running on: CPU\n"
     ]
    },
    {
     "name": "stderr",
     "output_type": "stream",
     "text": [
      "c:\\Users\\Admin\\Desktop\\Vaultfund-Model\\venv\\Lib\\site-packages\\sklearn\\base.py:380: InconsistentVersionWarning: Trying to unpickle estimator DecisionTreeClassifier from version 1.4.0 when using version 1.6.1. This might lead to breaking code or invalid results. Use at your own risk. For more info please refer to:\n",
      "https://scikit-learn.org/stable/model_persistence.html#security-maintainability-limitations\n",
      "  warnings.warn(\n",
      "c:\\Users\\Admin\\Desktop\\Vaultfund-Model\\venv\\Lib\\site-packages\\sklearn\\base.py:380: InconsistentVersionWarning: Trying to unpickle estimator RandomForestClassifier from version 1.4.0 when using version 1.6.1. This might lead to breaking code or invalid results. Use at your own risk. For more info please refer to:\n",
      "https://scikit-learn.org/stable/model_persistence.html#security-maintainability-limitations\n",
      "  warnings.warn(\n"
     ]
    },
    {
     "name": "stdout",
     "output_type": "stream",
     "text": [
      "Model successfully converted to ONNX format and saved to random_forest_model.onnx\n",
      "\n",
      "=== ONNX Runtime Prediction ===\n",
      "[0]\n",
      "\n",
      "=== Sklearn Prediction ===\n",
      "[0]\n"
     ]
    },
    {
     "name": "stderr",
     "output_type": "stream",
     "text": [
      "c:\\Users\\Admin\\Desktop\\Vaultfund-Model\\venv\\Lib\\site-packages\\sklearn\\utils\\validation.py:2739: UserWarning: X does not have valid feature names, but RandomForestClassifier was fitted with feature names\n",
      "  warnings.warn(\n"
     ]
    }
   ],
   "source": [
    "import numpy as np\n",
    "import pickle\n",
    "import onnxruntime\n",
    "from skl2onnx import to_onnx\n",
    "from skl2onnx.common.data_types import FloatTensorType\n",
    "\n",
    "# Check if ONNX Runtime is working\n",
    "print(f\"ONNX Runtime running on: {onnxruntime.get_device()}\")\n",
    "\n",
    "# ===== Load Pretrained Model =====\n",
    "with open('random_forest_model.pkl', 'rb') as file:\n",
    "    loaded_model = pickle.load(file)\n",
    "\n",
    "# Define Input Shape\n",
    "input_shape = loaded_model.n_features_in_\n",
    "initial_type = [('float_input', FloatTensorType([None, input_shape]))]\n",
    "\n",
    "# ===== Convert to ONNX =====\n",
    "onnx_model = to_onnx(loaded_model, initial_types=initial_type, target_opset=15)\n",
    "\n",
    "# Save ONNX Model\n",
    "onnx_path = \"random_forest_model.onnx\"\n",
    "with open(onnx_path, \"wb\") as f:\n",
    "    f.write(onnx_model.SerializeToString())\n",
    "\n",
    "print(f\"Model successfully converted to ONNX format and saved to {onnx_path}\")\n",
    "\n",
    "# ===== Load ONNX Model Using InferenceSession =====\n",
    "sess = onnxruntime.InferenceSession(onnx_path, providers=[\"CPUExecutionProvider\"])\n",
    "\n",
    "# Prepare Test Data\n",
    "sample_input = np.random.rand(1, input_shape).astype(np.float32)\n",
    "\n",
    "# Ensure feature names are consistent\n",
    "input_name = sess.get_inputs()[0].name\n",
    "\n",
    "# Make Predictions Using ONNX\n",
    "predictions = sess.run(None, {input_name: sample_input})[0]\n",
    "\n",
    "print(\"\\n=== ONNX Runtime Prediction ===\")\n",
    "print(predictions)\n",
    "\n",
    "# Compare with scikit-learn Prediction\n",
    "sklearn_prediction = loaded_model.predict(sample_input)\n",
    "\n",
    "print(\"\\n=== Sklearn Prediction ===\")\n",
    "print(sklearn_prediction)\n"
   ]
  }
 ],
 "metadata": {
  "kernelspec": {
   "display_name": "venv",
   "language": "python",
   "name": "python3"
  },
  "language_info": {
   "codemirror_mode": {
    "name": "ipython",
    "version": 3
   },
   "file_extension": ".py",
   "mimetype": "text/x-python",
   "name": "python",
   "nbconvert_exporter": "python",
   "pygments_lexer": "ipython3",
   "version": "3.12.0"
  }
 },
 "nbformat": 4,
 "nbformat_minor": 2
}
